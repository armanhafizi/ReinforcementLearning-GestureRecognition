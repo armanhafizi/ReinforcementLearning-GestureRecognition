{
 "cells": [
  {
   "cell_type": "markdown",
   "metadata": {},
   "source": [
    "## Import"
   ]
  },
  {
   "cell_type": "code",
   "execution_count": 6,
   "metadata": {},
   "outputs": [],
   "source": [
    "import numpy as np"
   ]
  },
  {
   "cell_type": "markdown",
   "metadata": {},
   "source": [
    "## Read Data"
   ]
  },
  {
   "cell_type": "code",
   "execution_count": 7,
   "metadata": {},
   "outputs": [
    {
     "data": {
      "text/plain": [
       "10"
      ]
     },
     "execution_count": 7,
     "metadata": {},
     "output_type": "execute_result"
    }
   ],
   "source": [
    "modes = ['circle-cw', 'circle-ccw', 'swipe-r', 'swipe-l', 'swipe-u', 'swipe-d', 'swipe-f', 'swipe-b', 'ok', 'stop']\n",
    "data_raw = {}\n",
    "for mode in modes:\n",
    "    filename = 'data/' + mode + '.npy'\n",
    "    data_raw[mode] = np.load(filename, allow_pickle=True)\n",
    "len(data_raw)"
   ]
  },
  {
   "cell_type": "markdown",
   "metadata": {},
   "source": [
    "## Chunking"
   ]
  },
  {
   "cell_type": "code",
   "execution_count": 9,
   "metadata": {},
   "outputs": [],
   "source": [
    "w, s = 50, 10\n",
    "Ls = []\n",
    "label, sequence, chunks, next_chunks = [], [], [], []\n",
    "for m in range(len(modes)):\n",
    "    mode = modes[m]\n",
    "    for d in range(len(data_raw[mode])):\n",
    "        datum = np.array(data_raw[mode][d])\n",
    "        i = 0\n",
    "        datum = (datum - datum.mean(0))/datum.std(0)\n",
    "        Ls.append(len(datum))\n",
    "        while (i+1)*s+w < len(datum):\n",
    "            chunk = datum[i*s: i*s+w]\n",
    "            next_chunk = datum[(i+1)*s: (i+1)*s+w]\n",
    "            label.append(m)\n",
    "            sequence.append(d)\n",
    "            chunks.append(np.array(chunk).reshape(w*9,))\n",
    "            next_chunks.append(np.array(next_chunk).reshape(w*9,))\n",
    "            i += 1\n",
    "label, sequence, chunks, next_chunks = np.array(label), np.array(sequence), np.array(chunks), np.array(next_chunks)\n"
   ]
  },
  {
   "cell_type": "code",
   "execution_count": 14,
   "metadata": {},
   "outputs": [
    {
     "name": "stdout",
     "output_type": "stream",
     "text": [
      "109 474.5646258503401 860 82.26981780097205\n"
     ]
    }
   ],
   "source": [
    "Ls = np.array(Ls)\n",
    "\n",
    "print(np.min(Ls), np.mean(Ls), np.max(Ls), np.std(Ls))"
   ]
  },
  {
   "cell_type": "markdown",
   "metadata": {},
   "source": [
    "## Save to file"
   ]
  },
  {
   "cell_type": "code",
   "execution_count": 5,
   "metadata": {},
   "outputs": [],
   "source": [
    "np.save('label', label, allow_pickle=True)\n",
    "np.save('sequence', sequence, allow_pickle=True)\n",
    "np.save('chunks', chunks, allow_pickle=True)\n",
    "np.save('next_chunks', next_chunks, allow_pickle=True)"
   ]
  }
 ],
 "metadata": {
  "kernelspec": {
   "display_name": "Python 3.10.8 64-bit",
   "language": "python",
   "name": "python3"
  },
  "language_info": {
   "codemirror_mode": {
    "name": "ipython",
    "version": 3
   },
   "file_extension": ".py",
   "mimetype": "text/x-python",
   "name": "python",
   "nbconvert_exporter": "python",
   "pygments_lexer": "ipython3",
   "version": "3.10.8"
  },
  "orig_nbformat": 4,
  "vscode": {
   "interpreter": {
    "hash": "b0fa6594d8f4cbf19f97940f81e996739fb7646882a419484c72d19e05852a7e"
   }
  }
 },
 "nbformat": 4,
 "nbformat_minor": 2
}
